{
 "cells": [
  {
   "cell_type": "markdown",
   "metadata": {},
   "source": [
    "# MOHAF Research Framework: Results Analysis"
   ]
  },
  {
   "cell_type": "markdown",
   "metadata": {},
   "source": [
    "This notebook analyzes the results of the experiments run by the `run_experiments.py` script. It loads the `auction_experiment_results.csv` file and generates a series of visualizations to compare the performance of the different auction mechanisms."
   ]
  },
  {
   "cell_type": "code",
   "execution_count": null,
   "metadata": {},
   "outputs": [],
   "source": [
    "import pandas as pd\n",
    "import matplotlib.pyplot as plt\n",
    "import seaborn as sns\n",
    "\n",
    "# Load the experiment results\n",
    "try:\n",
    "    df = pd.read_csv('auction_experiment_results.csv')\n",
    "    print('Results loaded successfully.')\n",
    "except FileNotFoundError:\n",
    "    print('Error: auction_experiment_results.csv not found. Please run the experiments first.')\n",
    "    df = pd.DataFrame()  # Create empty dataframe to avoid further errors"
   ]
  },
  {
   "cell_type": "markdown",
   "metadata": {},
   "source": [
    "## Overall Performance Comparison"
   ]
  },
  {
   "cell_type": "code",
   "execution_count": null,
   "metadata": {},
   "outputs": [],
   "source": [
    "if not df.empty:\n",
    "    # Calculate the mean of each metric for each mechanism\n",
    "    overall_performance = df.groupby('mechanism').mean(numeric_only=True)\n",
    "\n",
    "    # Plot the overall performance\n",
    "    fig, ax = plt.subplots(figsize=(12, 7))\n",
    "    overall_performance.plot(kind='bar', ax=ax, colormap='viridis')\n",
    "    ax.set_title('Overall Performance of Auction Mechanisms', fontsize=16)\n",
    "    ax.set_ylabel('Average Score')\n",
    "    ax.tick_params(axis='x', rotation=45)\n",
    "    plt.tight_layout()\n",
    "    plt.savefig('overall_performance.png')\n",
    "    plt.show()"
   ]
  },
  {
   "cell_type": "markdown",
   "metadata": {},
   "source": [
    "## Performance Distribution"
   ]
  },
  {
   "cell_type": "code",
   "execution_count": null,
   "metadata": {},
   "outputs": [],
   "source": [
    "if not df.empty:\n",
    "    # Create box plots for each metric\n",
    "    metrics = ['allocation_efficiency', 'revenue', 'satisfaction_rate', 'resource_utilization', 'execution_time', 'fairness_index']\n",
    "    fig, axes = plt.subplots(nrows=2, ncols=3, figsize=(20, 12))\n",
    "    fig.suptitle('Performance Distribution of Auction Mechanisms', fontsize=20)\n",
    "\n",
    "    for i, metric in enumerate(metrics):\n",
    "        row = i // 3\n",
    "        col = i % 3\n",
    "        sns.boxplot(x='mechanism', y=metric, data=df, ax=axes[row, col])\n",
    "        axes[row, col].set_title(metric.replace('_', ' ').title())\n",
    "        axes[row, col].tick_params(axis='x', rotation=45)\n",
    "\n",
    "    plt.tight_layout(rect=[0, 0, 1, 0.96])\n",
    "    plt.savefig('performance_distribution.png')\n",
    "    plt.show()"
   ]
  },
  {
   "cell_type": "markdown",
   "metadata": {},
   "source": [
    "## Efficiency vs. Time Trade-off"
   ]
  },
  {
   "cell_type": "code",
   "execution_count": null,
   "metadata": {},
   "outputs": [],
   "source": [
    "if not df.empty:\n",
    "    # Create a scatter plot to visualize the trade-off\n",
    "    fig, ax = plt.subplots(figsize=(10, 6))\n",
    "    sns.scatterplot(x='execution_time', y='allocation_efficiency', hue='mechanism', data=df, ax=ax, s=100)\n",
    "    ax.set_title('Allocation Efficiency vs. Execution Time', fontsize=16)\n",
    "    ax.set_xlabel('Execution Time (s)')\n",
    "    ax.set_ylabel('Allocation Efficiency')\n",
    "    plt.tight_layout()\n",
    "    plt.savefig('efficiency_vs_time.png')\n",
    "    plt.show()"
   ]
  }
 ],
 "metadata": {
  "kernelspec": {
   "display_name": "Python 3",
   "language": "python",
   "name": "python3"
  },
  "language_info": {
   "codemirror_mode": {
    "name": "ipython",
    "version": 3
   },
   "file_extension": ".py",
   "mimetype": "text/x-python",
   "name": "python",
   "nbconvert_exporter": "python",
   "pygments_lexer": "ipython3",
   "version": "3.10.10"
  }
 },
 "nbformat": 4,
 "nbformat_minor": 4
}